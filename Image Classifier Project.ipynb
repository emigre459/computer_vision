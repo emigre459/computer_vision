{
 "cells": [
  {
   "cell_type": "markdown",
   "metadata": {},
   "source": [
    "# Developing an AI application\n",
    "\n",
    "Going forward, AI algorithms will be incorporated into more and more everyday applications. For example, you might want to include an image classifier in a smart phone app. To do this, you'd use a deep learning model trained on hundreds of thousands of images as part of the overall application architecture. A large part of software development in the future will be using these types of models as common parts of applications. \n",
    "\n",
    "In this project, you'll train an image classifier to recognize different species of flowers. You can imagine using something like this in a phone app that tells you the name of the flower your camera is looking at. In practice you'd train this classifier, then export it for use in your application. We'll be using [this dataset](http://www.robots.ox.ac.uk/~vgg/data/flowers/102/index.html) of 102 flower categories, you can see a few examples below. \n",
    "\n",
    "<img src='assets/Flowers.png' width=500px>\n",
    "\n",
    "The project is broken down into multiple steps:\n",
    "\n",
    "* Load and preprocess the image dataset\n",
    "* Train the image classifier on your dataset\n",
    "* Use the trained classifier to predict image content\n",
    "\n",
    "We'll lead you through each part which you'll implement in Python.\n",
    "\n",
    "When you've completed this project, you'll have an application that can be trained on any set of labeled images. Here your network will be learning about flowers and end up as a command line application. But, what you do with your new skills depends on your imagination and effort in building a dataset. For example, imagine an app where you take a picture of a car, it tells you what the make and model is, then looks up information about it. Go build your own dataset and make something new.\n",
    "\n",
    "First up is importing the packages you'll need. It's good practice to keep all the imports at the beginning of your code. As you work through this notebook and find you need to import a package, make sure to add the import up here."
   ]
  },
  {
   "cell_type": "markdown",
   "metadata": {},
   "source": [
    "**NOTE TO THE GRADER: at this point, I should mention that I had to update the `pytorch` and `torchvision` packages in the Udacity GPU workspace to make my model train properly.** For some reason, the training output was coming out as a tuple of tensors instead of as an InceptionOutputs object. Once I updated these packages and the `cudatoolkit` from v8 to v9, everything started training well again.\n",
    "\n",
    "Did this by opening a new terminal window and running `conda install pytorch torchvision cudatoolkit=9.0 -c pytorch`"
   ]
  },
  {
   "cell_type": "code",
   "execution_count": null,
   "metadata": {
    "ExecuteTime": {
     "end_time": "2019-06-07T01:41:42.455555Z",
     "start_time": "2019-06-07T01:41:42.450394Z"
    }
   },
   "outputs": [],
   "source": [
    "# Imports here\n",
    "import torch\n",
    "from torch import nn\n",
    "from torch import optim\n",
    "from torchvision import datasets, transforms, models\n",
    "\n",
    "import matplotlib.pyplot as plt"
   ]
  },
  {
   "cell_type": "markdown",
   "metadata": {},
   "source": [
    "## Load the data\n",
    "\n",
    "Here you'll use `torchvision` to load the data ([documentation](http://pytorch.org/docs/0.3.0/torchvision/index.html)). The data should be included alongside this notebook, otherwise you can [download it here](https://s3.amazonaws.com/content.udacity-data.com/nd089/flower_data.tar.gz). The dataset is split into three parts, training, validation, and testing. For the training, you'll want to apply transformations such as random scaling, cropping, and flipping. This will help the network generalize leading to better performance. You'll also need to make sure the input data is resized to 224x224 pixels as required by the pre-trained networks.\n",
    "\n",
    "The validation and testing sets are used to measure the model's performance on data it hasn't seen yet. For this you don't want any scaling or rotation transformations, but you'll need to resize then crop the images to the appropriate size.\n",
    "\n",
    "The pre-trained networks you'll use were trained on the ImageNet dataset where each color channel was normalized separately. For all three sets you'll need to normalize the means and standard deviations of the images to what the network expects. For the means, it's `[0.485, 0.456, 0.406]` and for the standard deviations `[0.229, 0.224, 0.225]`, calculated from the ImageNet images.  These values will shift each color channel to be centered at 0 and range from -1 to 1.\n",
    " "
   ]
  },
  {
   "cell_type": "code",
   "execution_count": null,
   "metadata": {
    "ExecuteTime": {
     "end_time": "2019-06-06T14:37:32.819553Z",
     "start_time": "2019-06-06T14:37:32.816016Z"
    }
   },
   "outputs": [],
   "source": [
    "data_dir = 'flowers'\n",
    "train_dir = data_dir + '/train'\n",
    "valid_dir = data_dir + '/valid'\n",
    "test_dir = data_dir + '/test'"
   ]
  },
  {
   "cell_type": "code",
   "execution_count": null,
   "metadata": {
    "ExecuteTime": {
     "end_time": "2019-05-31T05:03:30.649466Z",
     "start_time": "2019-05-31T05:03:30.573605Z"
    },
    "scrolled": true
   },
   "outputs": [],
   "source": [
    "# TODO: Define your transforms for the training, validation, and testing sets\n",
    "\n",
    "# Means and stdevs common for pre-trained networks\n",
    "means = [0.485, 0.456, 0.406]\n",
    "stdevs = [0.229, 0.224, 0.225]\n",
    "\n",
    "#Inception V3 uses 299x299 images as inputs, not the standard 224x224 of other models\n",
    "train_transforms = transforms.Compose([transforms.RandomResizedCrop(299),\n",
    "                                       transforms.ColorJitter(brightness=0.15, \n",
    "                                                              contrast=0.15, \n",
    "                                                              saturation=0.15, \n",
    "                                                              hue=0),\n",
    "                                       transforms.RandomAffine(30),\n",
    "                                       transforms.RandomVerticalFlip(),\n",
    "                                       transforms.ToTensor(),\n",
    "                                       transforms.Normalize(means, \n",
    "                                                            stdevs)])\n",
    "\n",
    "\n",
    "# Data augmentation doesn't get applied to val or test sets\n",
    "validation_transforms = transforms.Compose([transforms.Resize(512),\n",
    "                                            transforms.CenterCrop(299),\n",
    "                                            transforms.ToTensor(),\n",
    "                                            transforms.Normalize(means,\n",
    "                                                                 stdevs)])\n",
    "\n",
    "test_transforms = transforms.Compose([transforms.Resize(512),\n",
    "                                      transforms.CenterCrop(299),\n",
    "                                      transforms.ToTensor(),\n",
    "                                      transforms.Normalize(means, \n",
    "                                                            stdevs)])\n",
    "\n",
    "# TODO: Load the datasets with ImageFolder\n",
    "train_data = datasets.ImageFolder(train_dir, transform=train_transforms)\n",
    "valid_data = datasets.ImageFolder(valid_dir, transform=validation_transforms)\n",
    "test_data = datasets.ImageFolder(test_dir, transform=test_transforms)\n",
    "\n",
    "\n",
    "# TODO: Using the image datasets and the trainforms, define the dataloaders\n",
    "trainloader = torch.utils.data.DataLoader(train_data, batch_size=64, shuffle=True)\n",
    "validloader = torch.utils.data.DataLoader(valid_data, batch_size=64)\n",
    "testloader = torch.utils.data.DataLoader(test_data, batch_size=64)"
   ]
  },
  {
   "cell_type": "markdown",
   "metadata": {},
   "source": [
    "### Label mapping\n",
    "\n",
    "You'll also need to load in a mapping from category label to category name. You can find this in the file `cat_to_name.json`. It's a JSON object which you can read in with the [`json` module](https://docs.python.org/2/library/json.html). This will give you a dictionary mapping the integer encoded categories to the actual names of the flowers."
   ]
  },
  {
   "cell_type": "code",
   "execution_count": 18,
   "metadata": {
    "ExecuteTime": {
     "end_time": "2019-06-15T03:37:02.641831Z",
     "start_time": "2019-06-15T03:37:02.602600Z"
    },
    "scrolled": true
   },
   "outputs": [
    {
     "data": {
      "text/plain": [
       "{'21': 'fire lily',\n",
       " '3': 'canterbury bells',\n",
       " '45': 'bolero deep blue',\n",
       " '1': 'pink primrose',\n",
       " '34': 'mexican aster',\n",
       " '27': 'prince of wales feathers',\n",
       " '7': 'moon orchid',\n",
       " '16': 'globe-flower',\n",
       " '25': 'grape hyacinth',\n",
       " '26': 'corn poppy',\n",
       " '79': 'toad lily',\n",
       " '39': 'siam tulip',\n",
       " '24': 'red ginger',\n",
       " '67': 'spring crocus',\n",
       " '35': 'alpine sea holly',\n",
       " '32': 'garden phlox',\n",
       " '10': 'globe thistle',\n",
       " '6': 'tiger lily',\n",
       " '93': 'ball moss',\n",
       " '33': 'love in the mist',\n",
       " '9': 'monkshood',\n",
       " '102': 'blackberry lily',\n",
       " '14': 'spear thistle',\n",
       " '19': 'balloon flower',\n",
       " '100': 'blanket flower',\n",
       " '13': 'king protea',\n",
       " '49': 'oxeye daisy',\n",
       " '15': 'yellow iris',\n",
       " '61': 'cautleya spicata',\n",
       " '31': 'carnation',\n",
       " '64': 'silverbush',\n",
       " '68': 'bearded iris',\n",
       " '63': 'black-eyed susan',\n",
       " '69': 'windflower',\n",
       " '62': 'japanese anemone',\n",
       " '20': 'giant white arum lily',\n",
       " '38': 'great masterwort',\n",
       " '4': 'sweet pea',\n",
       " '86': 'tree mallow',\n",
       " '101': 'trumpet creeper',\n",
       " '42': 'daffodil',\n",
       " '22': 'pincushion flower',\n",
       " '2': 'hard-leaved pocket orchid',\n",
       " '54': 'sunflower',\n",
       " '66': 'osteospermum',\n",
       " '70': 'tree poppy',\n",
       " '85': 'desert-rose',\n",
       " '99': 'bromelia',\n",
       " '87': 'magnolia',\n",
       " '5': 'english marigold',\n",
       " '92': 'bee balm',\n",
       " '28': 'stemless gentian',\n",
       " '97': 'mallow',\n",
       " '57': 'gaura',\n",
       " '40': 'lenten rose',\n",
       " '47': 'marigold',\n",
       " '59': 'orange dahlia',\n",
       " '48': 'buttercup',\n",
       " '55': 'pelargonium',\n",
       " '36': 'ruby-lipped cattleya',\n",
       " '91': 'hippeastrum',\n",
       " '29': 'artichoke',\n",
       " '71': 'gazania',\n",
       " '90': 'canna lily',\n",
       " '18': 'peruvian lily',\n",
       " '98': 'mexican petunia',\n",
       " '8': 'bird of paradise',\n",
       " '30': 'sweet william',\n",
       " '17': 'purple coneflower',\n",
       " '52': 'wild pansy',\n",
       " '84': 'columbine',\n",
       " '12': \"colt's foot\",\n",
       " '11': 'snapdragon',\n",
       " '96': 'camellia',\n",
       " '23': 'fritillary',\n",
       " '50': 'common dandelion',\n",
       " '44': 'poinsettia',\n",
       " '53': 'primula',\n",
       " '72': 'azalea',\n",
       " '65': 'californian poppy',\n",
       " '80': 'anthurium',\n",
       " '76': 'morning glory',\n",
       " '37': 'cape flower',\n",
       " '56': 'bishop of llandaff',\n",
       " '60': 'pink-yellow dahlia',\n",
       " '82': 'clematis',\n",
       " '58': 'geranium',\n",
       " '75': 'thorn apple',\n",
       " '41': 'barbeton daisy',\n",
       " '95': 'bougainvillea',\n",
       " '43': 'sword lily',\n",
       " '83': 'hibiscus',\n",
       " '78': 'lotus lotus',\n",
       " '88': 'cyclamen',\n",
       " '94': 'foxglove',\n",
       " '81': 'frangipani',\n",
       " '74': 'rose',\n",
       " '89': 'watercress',\n",
       " '73': 'water lily',\n",
       " '46': 'wallflower',\n",
       " '77': 'passion flower',\n",
       " '51': 'petunia'}"
      ]
     },
     "execution_count": 18,
     "metadata": {},
     "output_type": "execute_result"
    }
   ],
   "source": [
    "import json\n",
    "\n",
    "with open('cat_to_name.json', 'r') as f:\n",
    "    cat_to_name = json.load(f)\n",
    "    \n",
    "cat_to_name"
   ]
  },
  {
   "cell_type": "markdown",
   "metadata": {},
   "source": [
    "# Building and training the classifier\n",
    "\n",
    "Now that the data is ready, it's time to build and train the classifier. As usual, you should use one of the pretrained models from `torchvision.models` to get the image features. Build and train a new feed-forward classifier using those features.\n",
    "\n",
    "We're going to leave this part up to you. Refer to [the rubric](https://review.udacity.com/#!/rubrics/1663/view) for guidance on successfully completing this section. Things you'll need to do:\n",
    "\n",
    "* Load a [pre-trained network](http://pytorch.org/docs/master/torchvision/models.html) (If you need a starting point, the VGG networks work great and are straightforward to use)\n",
    "* Define a new, untrained feed-forward network as a classifier, using ReLU activations and dropout\n",
    "* Train the classifier layers using backpropagation using the pre-trained network to get the features\n",
    "* Track the loss and accuracy on the validation set to determine the best hyperparameters\n",
    "\n",
    "We've left a cell open for you below, but use as many as you need. Our advice is to break the problem up into smaller parts you can run separately. Check that each part is doing what you expect, then move on to the next. You'll likely find that as you work through each part, you'll need to go back and modify your previous code. This is totally normal!\n",
    "\n",
    "When training make sure you're updating only the weights of the feed-forward network. You should be able to get the validation accuracy above 70% if you build everything right. Make sure to try different hyperparameters (learning rate, units in the classifier, epochs, etc) to find the best model. Save those hyperparameters to use as default values in the next part of the project.\n",
    "\n",
    "One last important tip if you're using the workspace to run your code: To avoid having your workspace disconnect during the long-running tasks in this notebook, please read in the earlier page in this lesson called Intro to\n",
    "GPU Workspaces about Keeping Your Session Active. You'll want to include code from the workspace_utils.py module.\n",
    "\n",
    "**Note for Workspace users:** If your network is over 1 GB when saved as a checkpoint, there might be issues with saving backups in your workspace. Typically this happens with wide dense layers after the convolutional layers. If your saved checkpoint is larger than 1 GB (you can open a terminal and check with `ls -lh`), you should reduce the size of your hidden layers and train again."
   ]
  },
  {
   "cell_type": "code",
   "execution_count": null,
   "metadata": {
    "ExecuteTime": {
     "end_time": "2019-06-03T03:15:32.106798Z",
     "start_time": "2019-06-03T03:15:29.225304Z"
    }
   },
   "outputs": [],
   "source": [
    "# TODO: Build and train your network\n",
    "model = models.inception_v3(pretrained=True)\n",
    "model"
   ]
  },
  {
   "cell_type": "code",
   "execution_count": null,
   "metadata": {
    "ExecuteTime": {
     "end_time": "2019-06-03T03:15:37.102158Z",
     "start_time": "2019-06-03T03:15:37.097530Z"
    }
   },
   "outputs": [],
   "source": [
    "# Freeze parameters so we don't backprop through the pre-trained feature detector\n",
    "for param in model.parameters():\n",
    "    param.requires_grad = False"
   ]
  },
  {
   "cell_type": "code",
   "execution_count": null,
   "metadata": {
    "ExecuteTime": {
     "end_time": "2019-06-03T03:15:40.575541Z",
     "start_time": "2019-06-03T03:15:40.543923Z"
    }
   },
   "outputs": [],
   "source": [
    "# Setup new (relatively shallow) classifer network\n",
    "from collections import OrderedDict\n",
    "\n",
    "p_dropout = 0.2\n",
    "\n",
    "layers = OrderedDict([('hidden1', nn.Linear(2048, 512)),\n",
    "                      ('activation1', nn.ReLU()),\n",
    "                      ('dropout1', nn.Dropout(p=p_dropout)),\n",
    "                      ('hidden2', nn.Linear(512, 256)),\n",
    "                      ('activation2', nn.ReLU()),\n",
    "                      ('output', nn.Linear(256, 102)),\n",
    "                      ('activation_output', nn.LogSoftmax(dim=1))])\n",
    "\n",
    "classifier = nn.Sequential(layers)\n",
    "classifier"
   ]
  },
  {
   "cell_type": "code",
   "execution_count": null,
   "metadata": {
    "ExecuteTime": {
     "end_time": "2019-06-03T03:22:49.602160Z",
     "start_time": "2019-06-03T03:22:49.587811Z"
    }
   },
   "outputs": [],
   "source": [
    "# Set the classifier of our pre-trained model to be our new classifier\n",
    "# which does NOT have requires_grad = False and thus can be trained,\n",
    "# unlike our feature detector network\n",
    "model.fc = classifier\n",
    "model"
   ]
  },
  {
   "cell_type": "code",
   "execution_count": null,
   "metadata": {
    "ExecuteTime": {
     "end_time": "2019-06-03T03:23:11.414272Z",
     "start_time": "2019-06-03T03:23:11.402610Z"
    }
   },
   "outputs": [],
   "source": [
    "# If GPU is enabled, set device = 'cuda'. Otherwise use CPU\n",
    "device = torch.device(\"cuda:0\" if torch.cuda.is_available() else \"cpu\")\n",
    "\n",
    "model.to(device)\n",
    "\n",
    "# Actual loss function dictated by model architecture, of course\n",
    "criterion = nn.NLLLoss()\n",
    "\n",
    "# Only train the classifier parameters, feature parameters are frozen\n",
    "optimizer = optim.Adam(model.fc.parameters(), lr=0.0005)\n",
    "\n",
    "device"
   ]
  },
  {
   "cell_type": "code",
   "execution_count": null,
   "metadata": {
    "ExecuteTime": {
     "end_time": "2019-06-03T12:46:22.560063Z",
     "start_time": "2019-06-03T12:45:46.430333Z"
    },
    "scrolled": true
   },
   "outputs": [],
   "source": [
    "from time import time\n",
    "t0 = time()\n",
    "\n",
    "# Prep for saving the best epoch's model weights\n",
    "# Code for this adapted from https://medium.com/datadriveninvestor/creating-a-pytorch-image-classifier-da9db139ba80\n",
    "from copy import deepcopy\n",
    "best_model_wts = deepcopy(model.state_dict())\n",
    "best_accuracy = {'acc': 0.0, 'epoch': 0}\n",
    "\n",
    "\n",
    "epochs = 30\n",
    "\n",
    "from workspace_utils import keep_awake\n",
    "\n",
    "# Keep GPU session awake until done training\n",
    "for e in keep_awake(range(epochs)):\n",
    "    \n",
    "    # ---------------------- TRAINING ----------------------\n",
    "    model.train()\n",
    "    training_loss = 0\n",
    "    training_batch_counter = 0\n",
    "    \n",
    "    for images, labels in trainloader:\n",
    "\n",
    "        # Move input and label tensors to the GPU or CPU\n",
    "        images, labels = images.to(device), labels.to(device)\n",
    "        \n",
    "        optimizer.zero_grad()\n",
    "\n",
    "        outputs = model(images)\n",
    "        loss = criterion(outputs.logits, labels)\n",
    "        loss.backward()\n",
    "        optimizer.step()\n",
    "        \n",
    "        training_loss += loss.item()\n",
    "        \n",
    "        # Monitor every 10 batches and final batch\n",
    "        if training_batch_counter % 10 == 0 or training_batch_counter == (len(trainloader) - 1):\n",
    "            print(f\"Training batch {training_batch_counter}\\nLoss = \\\n",
    "            {training_loss/(training_batch_counter + 1)}\\n\")\n",
    "            \n",
    "        training_batch_counter += 1\n",
    "        \n",
    "    # ---------------------- VALIDATION ----------------------\n",
    "    \n",
    "       \n",
    "    # turn off gradients for speedup in validation\n",
    "    with torch.no_grad():\n",
    "\n",
    "        # set model to evaluation mode and remove un-needed things like Dropout layers\n",
    "        model.eval()\n",
    "      \n",
    "        accuracy = 0\n",
    "        valid_loss = 0\n",
    "        val_batch_counter = 0\n",
    "        \n",
    "        for images, labels in validloader:\n",
    "            # Move input and label tensors to the GPU or CPU\n",
    "            images, labels = images.to(device), labels.to(device)\n",
    "            \n",
    "            outputs = model(images)\n",
    "            loss = criterion(outputs, labels)\n",
    "            probs = torch.exp(outputs)\n",
    "\n",
    "            _, top_class = probs.topk(1, dim = 1)\n",
    "            equals = top_class == labels.view(*top_class.shape)\n",
    "            \n",
    "            valid_loss += loss.item()\n",
    "            accuracy += torch.mean(equals.type(torch.FloatTensor)).item()\n",
    "            \n",
    "            # Monitor every 3 batches and final batch\n",
    "            if val_batch_counter % 3 == 0 or val_batch_counter == (len(validloader) - 1):\n",
    "                print(f\"Validation batch {val_batch_counter}\\nLoss = \\\n",
    "                      {valid_loss/(val_batch_counter + 1)}\\n and \\\n",
    "                      accuracy = {accuracy/(val_batch_counter + 1)}\\n\")\n",
    "            \n",
    "            val_batch_counter += 1\n",
    "            \n",
    "            \n",
    "    # Note that normalizing to train/validloader length is due to need to divide by batch size\n",
    "    # to effectively average the quantity in question\n",
    "    training_loss /= len(trainloader)\n",
    "    valid_loss /= len(validloader)\n",
    "    accuracy /= len(validloader)\n",
    "    \n",
    "    print(f\"For epoch {e+1}/{epochs}...\")\n",
    "    print(f\"{round((time()-t0)/60, 3)} minutes since training started\")\n",
    "    print(f\"Training loss = {training_loss}\")\n",
    "    print(f\"Validation loss = {valid_loss}\")\n",
    "    print(f\"Accuracy = {accuracy}\\n\\n\")\n",
    "    \n",
    "    # Update best accuracy and weights if new superior model is found\n",
    "    if accuracy > best_accuracy['acc']:\n",
    "        best_accuracy['acc'] = accuracy\n",
    "        best_accuracy['epoch'] = e+1\n",
    "        best_model_wts = deepcopy(model.state_dict())\n",
    "        \n",
    "        print(\"Best accuracy updated this epoch to {}\\n\\n\\n\".format(best_accuracy['acc']))\n",
    "    \n",
    "    # set model back to train mode\n",
    "    model.train()\n",
    "\n",
    "print(\"Best accuracy found was {} in epoch {}\".format(best_accuracy['acc'],\n",
    "                                                     best_accuracy['epoch']))\n",
    "\n",
    "# Set model weights to the optimal ones found across all epochs\n",
    "# NOTE: you may get an error IncompatibleKeys(missing_keys=[], unexpected_keys=[])\n",
    "# This error can be ignored. Model weights were still set properly.\n",
    "model.load_state_dict(best_model_wts)"
   ]
  },
  {
   "cell_type": "code",
   "execution_count": null,
   "metadata": {},
   "outputs": [],
   "source": [
    "best_accuracy"
   ]
  },
  {
   "cell_type": "markdown",
   "metadata": {},
   "source": [
    "**For reference, Model 1 had an architecture of 3x hidden (2048 -> 1024 -> 512 -> 256 -> 102); all ReLU; no Dropout**\n",
    "\n",
    "<center> <b> Results of Different Model Runs </b> </center>\n",
    "\n",
    "Model ID | Deviation from Previous Models | Optimizer | Learning Rate | Number of Epochs | Validation Accuracy | Notes\n",
    "--- | --- | --- | --- | --- | --- | ---\n",
    "1 | N/A | Adam | 0.001 | 10 | 0.652 | \n",
    "2 | Added Dropout(0.2) on layers 2 and 3 | Adam | 0.001 | 10 | 0.645 | No real impact\n",
    "3 | Same as Model 2 | Adam | 0.01 | 10 | 0.06 | \n",
    "4 | Same as Model 2 | Adam | 0.005 | 10 | 0.06 | Stopped after 2 epochs\n",
    "5 | Same as Model 2 | Adam | 0.0005 | 10 | 0.723 | \n",
    "6 | Same as Model 2 | Adam | 0.0001 | 10 | 0.571 | \n",
    "7 | Same as Model 2 | Adam | 0.0005 | 30 | 0.810 | Epoch increase\n",
    "8 | Same as Model 2, but with 6 hidden layers | Adam | 0.0005 | 30 | 0.567 | Dropout applied in same fashion as Model 2\n",
    "9 | Shallower than Model 2 (2048 -> 512 -> 256 -> 102) | Adam | 0.0005 | 30 | 0.842 | This is the model we'll be going forward with\n",
    "10 | Same as Model 9, but $p_{dropout} = 0.5$, not $0.2$| Adam | 0.0005 | 30 | 0.834 | Given the stochastic nature of dropout and the network itself, going to consider this roughly the same as Model 9's performance"
   ]
  },
  {
   "cell_type": "markdown",
   "metadata": {},
   "source": [
    "**Other items to consider in the future if we want to train this further**\n",
    "\n",
    "1. Check to see if other optimizers than Adam make sense to try out\n",
    "    * `optimizer = optim.RMSprop(model.parameters(), lr=0.01, alpha=0.99, momentum=0.9)`\n",
    "    * `optimizer = optim.SGD(model.parameters(), lr=0.1, momentum=0.9, nesterov = True)`\n",
    "    * Can also try playing with Adam's parameters more: `optim.Adam(model.parameters(), lr = 0.001, amsgrad = True, weight_decay = 0.2)`\n",
    "1. Try a different pretrained model (e.g. densenet)\n",
    "4. Change the batch size (64 -> 128). Bigger batches + adaptive learning rates (such as those achieved with rmsprop) [allow you to avoid sampling error of mini-batches causing gradient sign changes that look meaningful but aren't](http://www.cs.toronto.edu/~tijmen/csc321/slides/lecture_slides_lec6.pdf)\n",
    "5. Change the data augmentation (maybe include a random selection/ordering transformation?)"
   ]
  },
  {
   "cell_type": "markdown",
   "metadata": {},
   "source": [
    "## Testing your network\n",
    "\n",
    "It's good practice to test your trained network on test data, images the network has never seen either in training or validation. This will give you a good estimate for the model's performance on completely new images. Run the test images through the network and measure the accuracy, the same way you did validation. You should be able to reach around 70% accuracy on the test set if the model has been trained well."
   ]
  },
  {
   "cell_type": "code",
   "execution_count": null,
   "metadata": {},
   "outputs": [],
   "source": [
    "# TODO: Do validation on the test set\n",
    "\n",
    "# ---------------------- TESTING ----------------------\n",
    "       \n",
    "# turn off gradients for speedup in testing\n",
    "with torch.no_grad():\n",
    "\n",
    "    # set model to evaluation mode and remove un-needed things like Dropout layers\n",
    "    model.eval()\n",
    "\n",
    "    test_accuracy = 0\n",
    "    test_loss = 0\n",
    "\n",
    "    for images, labels in testloader:\n",
    "        # Move input and label tensors to the GPU or CPU\n",
    "        images, labels = images.to(device), labels.to(device)\n",
    "\n",
    "        outputs = model(images)\n",
    "        loss = criterion(outputs, labels)\n",
    "        probs = torch.exp(outputs)\n",
    "\n",
    "        _, top_class = probs.topk(1, dim = 1)\n",
    "        equals = top_class == labels.view(*top_class.shape)\n",
    "\n",
    "        test_loss += loss.item()\n",
    "        test_accuracy += torch.mean(equals.type(torch.FloatTensor)).item()\n",
    "\n",
    "\n",
    "\n",
    "# Note that normalizing to train/validloader length is due to need to divide by batch size\n",
    "# to effectively average the quantity in question\n",
    "print(f\"Testing loss = {test_loss/len(testloader)}\")\n",
    "print(f\"Testing accuracy = {test_accuracy/len(testloader)}\\n\\n\")\n",
    "\n",
    "# set model back to train mode\n",
    "model.train()"
   ]
  },
  {
   "cell_type": "markdown",
   "metadata": {},
   "source": [
    "**Very nice! We see about 77.4% accuracy with this model!** Let's save this."
   ]
  },
  {
   "cell_type": "markdown",
   "metadata": {},
   "source": [
    "## Save the checkpoint\n",
    "\n",
    "Now that your network is trained, save the model so you can load it later for making predictions. You probably want to save other things such as the mapping of classes to indices which you get from one of the image datasets: `image_datasets['train'].class_to_idx`. You can attach this to the model as an attribute which makes inference easier later on.\n",
    "\n",
    "```model.class_to_idx = image_datasets['train'].class_to_idx```\n",
    "\n",
    "Remember that you'll want to completely rebuild the model later so you can use it for inference. Make sure to include any information you need in the checkpoint. If you want to load the model and keep training, you'll want to save the number of epochs as well as the optimizer state, `optimizer.state_dict`. You'll likely want to use this trained model in the next part of the project, so best to save it now."
   ]
  },
  {
   "cell_type": "code",
   "execution_count": null,
   "metadata": {
    "ExecuteTime": {
     "end_time": "2019-06-07T02:59:57.101699Z",
     "start_time": "2019-06-07T02:59:57.083611Z"
    }
   },
   "outputs": [],
   "source": [
    "# Note that class_to_idx provides the mapping of my folder names to the index used in the model\n",
    "checkpoint = {'layers': layers,\n",
    "              'model_state': model.state_dict(),\n",
    "              'epoch_count': epochs,\n",
    "              'training_loss': training_loss,\n",
    "              'validation_loss': valid_loss,\n",
    "              'opt_state': optimizer.state_dict(),\n",
    "              'class_to_idx': train_data.class_to_idx,\n",
    "              'idx_to_class': {v: k for k,v in train_data.class_to_idx.items()}}\n",
    "\n",
    "torch.save(checkpoint, 'checkpoint9.pth')"
   ]
  },
  {
   "cell_type": "markdown",
   "metadata": {},
   "source": [
    "## Loading the checkpoint\n",
    "\n",
    "At this point it's good to write a function that can load a checkpoint and rebuild the model. That way you can come back to this project and keep working on it without having to retrain the network."
   ]
  },
  {
   "cell_type": "code",
   "execution_count": null,
   "metadata": {
    "ExecuteTime": {
     "end_time": "2019-06-13T02:58:56.698734Z",
     "start_time": "2019-06-13T02:58:53.691298Z"
    }
   },
   "outputs": [],
   "source": [
    "model = models.inception_v3(pretrained=True)\n",
    "model"
   ]
  },
  {
   "cell_type": "code",
   "execution_count": null,
   "metadata": {
    "ExecuteTime": {
     "end_time": "2019-06-08T01:56:57.562293Z",
     "start_time": "2019-06-08T01:56:50.421426Z"
    }
   },
   "outputs": [],
   "source": [
    "# Imports needed in case we're starting work from this point in the notebook\n",
    "import torch\n",
    "from torch import nn\n",
    "from torch import optim\n",
    "from torchvision import datasets, transforms, models\n",
    "\n",
    "\n",
    "def load_checkpoint(filepath, device = 'cpu'):\n",
    "    '''\n",
    "    Loads your model fully in eval mode\n",
    "    \n",
    "    Parameters\n",
    "    ----------\n",
    "    filepath: str. Relative filepath from working directory to checkpoint.pth file\n",
    "    \n",
    "    device: str. Can be either 'cpu' or 'cuda:0'\n",
    "    \n",
    "    \n",
    "    Returns\n",
    "    -------\n",
    "    tuple of (model, optimizer) objects.\n",
    "    '''\n",
    "    checkpoint = torch.load(filepath, map_location=device)\n",
    "    \n",
    "    # Load the pre-trained model\n",
    "    model = models.inception_v3(pretrained=True)\n",
    "    \n",
    "    # Freeze parameters so we can't backprop through the pre-trained feature detector\n",
    "    for param in model.parameters():\n",
    "        param.requires_grad = False\n",
    "    \n",
    "    model.fc = nn.Sequential(checkpoint['layers'])\n",
    "    model.load_state_dict(checkpoint['model_state'])\n",
    "    model.class_to_idx = checkpoint['class_to_idx']\n",
    "    model.idx_to_class = checkpoint['idx_to_class']\n",
    "    \n",
    "    # Only train the classifier parameters, feature parameters are frozen\n",
    "    optimizer = optim.Adam(model.fc.parameters(), lr=0.0005)\n",
    "    optimizer.load_state_dict(checkpoint['opt_state'])\n",
    "    \n",
    "    model.eval()\n",
    "    \n",
    "    return model, optimizer"
   ]
  },
  {
   "cell_type": "code",
   "execution_count": null,
   "metadata": {
    "ExecuteTime": {
     "end_time": "2019-06-08T01:57:15.300781Z",
     "start_time": "2019-06-08T01:57:08.731197Z"
    },
    "scrolled": true
   },
   "outputs": [],
   "source": [
    "# Load the model, as needed\n",
    "\n",
    "model, optimizer = load_checkpoint('model_checkpoints/checkpoint9.pth', device = 'cpu')"
   ]
  },
  {
   "cell_type": "markdown",
   "metadata": {},
   "source": [
    "# Inference for classification\n",
    "\n",
    "Now you'll write a function to use a trained network for inference. That is, you'll pass an image into the network and predict the class of the flower in the image. Write a function called `predict` that takes an image and a model, then returns the top $K$ most likely classes along with the probabilities. It should look like \n",
    "\n",
    "```python\n",
    "probs, classes = predict(image_path, model)\n",
    "print(probs)\n",
    "print(classes)\n",
    "> [ 0.01558163  0.01541934  0.01452626  0.01443549  0.01407339]\n",
    "> ['70', '3', '45', '62', '55']\n",
    "```\n",
    "\n",
    "First you'll need to handle processing the input image such that it can be used in your network. \n",
    "\n",
    "## Image Preprocessing\n",
    "\n",
    "You'll want to use `PIL` to load the image ([documentation](https://pillow.readthedocs.io/en/latest/reference/Image.html)). It's best to write a function that preprocesses the image so it can be used as input for the model. This function should process the images in the same manner used for training. \n",
    "\n",
    "First, resize the images where the shortest side is 256 pixels, keeping the aspect ratio. This can be done with the [`thumbnail`](http://pillow.readthedocs.io/en/3.1.x/reference/Image.html#PIL.Image.Image.thumbnail) or [`resize`](http://pillow.readthedocs.io/en/3.1.x/reference/Image.html#PIL.Image.Image.thumbnail) methods. Then you'll need to crop out the center 224x224 portion of the image.\n",
    "\n",
    "Color channels of images are typically encoded as integers 0-255, but the model expected floats 0-1. You'll need to convert the values. It's easiest with a Numpy array, which you can get from a PIL image like so `np_image = np.array(pil_image)`.\n",
    "\n",
    "As before, the network expects the images to be normalized in a specific way. For the means, it's `[0.485, 0.456, 0.406]` and for the standard deviations `[0.229, 0.224, 0.225]`. You'll want to subtract the means from each color channel, then divide by the standard deviation. \n",
    "\n",
    "And finally, PyTorch expects the color channel to be the first dimension but it's the third dimension in the PIL image and Numpy array. You can reorder dimensions using [`ndarray.transpose`](https://docs.scipy.org/doc/numpy-1.13.0/reference/generated/numpy.ndarray.transpose.html). The color channel needs to be first and retain the order of the other two dimensions."
   ]
  },
  {
   "cell_type": "code",
   "execution_count": 4,
   "metadata": {
    "ExecuteTime": {
     "end_time": "2019-06-13T19:40:29.865007Z",
     "start_time": "2019-06-13T19:40:29.859252Z"
    }
   },
   "outputs": [],
   "source": [
    "def calculate_resize(image, goal_size):\n",
    "    '''\n",
    "    Takes a PIL image and outputs the new dimensions it should have in a PyTorch-like\n",
    "    manner such that the shorter axis is set to goal_size and the long axis is scaled \n",
    "    such that the original aspect ratio is maintained. This is intended to be fed into\n",
    "    Image.resize().\n",
    "    \n",
    "    Parameters\n",
    "    ----------\n",
    "    image: PIL image object\n",
    "    \n",
    "    goal_size: int. Desired minimum dimension size.\n",
    "    \n",
    "    \n",
    "    Returns\n",
    "    -------\n",
    "    tuple of ints of the format (new width, new height)\n",
    "    '''\n",
    "    \n",
    "    aspect_ratio = min(image.size) / max(image.size)\n",
    "\n",
    "    # Get the index of the smaller dimension\n",
    "    min_ix = image.size.index(min(image.size))\n",
    "\n",
    "    # width is smaller than height\n",
    "    if min_ix == 0:\n",
    "        return (goal_size, int(goal_size/aspect_ratio))\n",
    "    else:\n",
    "        return (int(goal_size/aspect_ratio), goal_size)"
   ]
  },
  {
   "cell_type": "code",
   "execution_count": 5,
   "metadata": {
    "ExecuteTime": {
     "end_time": "2019-06-13T19:40:30.130140Z",
     "start_time": "2019-06-13T19:40:30.123684Z"
    }
   },
   "outputs": [],
   "source": [
    "def calculate_centercrop_box(image, goal_size):\n",
    "    '''\n",
    "    Takes a PIL image and outputs the 4-tuple of coordinates needed to perform a centered cropping\n",
    "    of the image of size goal_size x goal_size. This is intended to be fed into Image.crop().\n",
    "    \n",
    "    Parameters\n",
    "    ----------\n",
    "    image: PIL image object\n",
    "    \n",
    "    goal_size: int. Desired resultant dimension size.\n",
    "    \n",
    "    \n",
    "    Returns\n",
    "    -------\n",
    "    4-tuple of ints coordinates of the format (new_width_X, new_width_Y \n",
    "                                                new_height_X, new_height_Y)\n",
    "    '''\n",
    "    \n",
    "    width = image.size[0]\n",
    "    height = image.size[1]\n",
    "    \n",
    "    # upperLeft_X, upperLeft_Y, lowerRight_X, lowerRight_Y\n",
    "    bound_box = [int(0.5*(width - goal_size)), int(0.5*(height - goal_size)),\n",
    "                int(0.5*(width + goal_size)), int(0.5*(height + goal_size))]\n",
    "    \n",
    "    # Check to make sure both dimensions produce goal_size\n",
    "    bound_box_w = bound_box[2] - bound_box[0]\n",
    "    bound_box_h = bound_box[3] - bound_box[1]\n",
    "    \n",
    "    if bound_box_w != goal_size:\n",
    "        bound_box[2] -= bound_box_w - goal_size\n",
    "    \n",
    "    \n",
    "    return tuple(bound_box)"
   ]
  },
  {
   "cell_type": "code",
   "execution_count": 6,
   "metadata": {
    "ExecuteTime": {
     "end_time": "2019-06-13T19:40:30.325455Z",
     "start_time": "2019-06-13T19:40:30.317925Z"
    }
   },
   "outputs": [],
   "source": [
    "import numpy as np\n",
    "from PIL import Image\n",
    "\n",
    "def process_image(image):\n",
    "    ''' Scales, crops, and normalizes a PIL image for a PyTorch model,\n",
    "        returns an Numpy array\n",
    "    '''\n",
    "    \n",
    "    # TODO: Process a PIL image for use in a PyTorch model\n",
    "    \n",
    "    # Note that, in order to make this similar to my validation and testing batches,\n",
    "    # I actually need to resize to 512x512 and then crop to 299x299 pixels\n",
    "    \n",
    "    # Resize to 512 on the shortest axis, keeping aspect ratio\n",
    "    new_size = calculate_resize(image, 512)\n",
    "    image = image.resize(new_size)   \n",
    "    \n",
    "    \n",
    "    # Center-crop the image to 299x299\n",
    "    crop_size = calculate_centercrop_box(image, 299)\n",
    "    image = image.crop(crop_size)\n",
    "    \n",
    "    \n",
    "    # Convert image to numpy array\n",
    "    np_image = np.array(image)\n",
    "    \n",
    "    # Scale 0-255 color channel values to 0-1\n",
    "    np_image = np.divide(np_image, np.array([255]))\n",
    "    \n",
    "    # Normalize color channel values\n",
    "    MEANS = np.array([0.485, 0.456, 0.406])\n",
    "    STDEVS = np.array([0.229, 0.224, 0.225])\n",
    "    \n",
    "    np_image = np.subtract(np_image, MEANS)\n",
    "    np_image = np.divide(np_image, STDEVS)\n",
    "    \n",
    "    # Move color dimension from third to first place, retaining other two dimensions' orders\n",
    "    # Resulting array should be of shape (3,299,299)\n",
    "    np_image = np_image.transpose(2,0,1)\n",
    "    \n",
    "    # Return numpy array\n",
    "    return np_image"
   ]
  },
  {
   "cell_type": "markdown",
   "metadata": {},
   "source": [
    "To check your work, the function below converts a PyTorch tensor and displays it in the notebook. If your `process_image` function works, running the output through this function should return the original image (except for the cropped out portions)."
   ]
  },
  {
   "cell_type": "code",
   "execution_count": 7,
   "metadata": {
    "ExecuteTime": {
     "end_time": "2019-06-13T19:40:31.086019Z",
     "start_time": "2019-06-13T19:40:31.079707Z"
    }
   },
   "outputs": [],
   "source": [
    "import matplotlib.pyplot as plt\n",
    "\n",
    "def imshow(image, ax=None, title=None):\n",
    "    \"\"\"Imshow for Tensor. Provided by Udacity as part of project.\"\"\"\n",
    "    if ax is None:\n",
    "        fig, ax = plt.subplots()\n",
    "    \n",
    "    # PyTorch tensors assume the color channel is the first dimension\n",
    "    # but matplotlib assumes is the third dimension\n",
    "    image = image.numpy().transpose((1, 2, 0))\n",
    "    \n",
    "    # Undo preprocessing\n",
    "    mean = np.array([0.485, 0.456, 0.406])\n",
    "    std = np.array([0.229, 0.224, 0.225])\n",
    "    image = std * image + mean\n",
    "    \n",
    "    # Image needs to be clipped between 0 and 1 or it looks like noise when displayed\n",
    "    image = np.clip(image, 0, 1)\n",
    "    \n",
    "    ax.imshow(image)\n",
    "    \n",
    "    return ax"
   ]
  },
  {
   "cell_type": "code",
   "execution_count": 9,
   "metadata": {
    "ExecuteTime": {
     "end_time": "2019-06-13T19:40:38.155643Z",
     "start_time": "2019-06-13T19:40:37.838018Z"
    },
    "scrolled": true
   },
   "outputs": [
    {
     "data": {
      "text/plain": [
       "<matplotlib.axes._subplots.AxesSubplot at 0x11c36e1d0>"
      ]
     },
     "execution_count": 9,
     "metadata": {},
     "output_type": "execute_result"
    },
    {
     "data": {
      "image/png": "[encoded data removed]",
      "text/plain": [
       "<Figure size 432x288 with 1 Axes>"
      ]
     },
     "metadata": {
      "needs_background": "light"
     },
     "output_type": "display_data"
    }
   ],
   "source": [
    "image = Image.open('data/test/5/image_05159.jpg')\n",
    "import torch\n",
    "\n",
    "# Preprocess the image\n",
    "im = torch.Tensor(process_image(image))\n",
    "\n",
    "imshow(im)"
   ]
  },
  {
   "cell_type": "code",
   "execution_count": 17,
   "metadata": {
    "ExecuteTime": {
     "end_time": "2019-06-13T19:51:15.267072Z",
     "start_time": "2019-06-13T19:51:15.249892Z"
    },
    "scrolled": true
   },
   "outputs": [
    {
     "data": {
      "text/plain": [
       "torch.Size([1, 3, 299, 299])"
      ]
     },
     "execution_count": 17,
     "metadata": {},
     "output_type": "execute_result"
    }
   ],
   "source": [
    "torch.Tensor(process_image(image)).unsqueeze(0).shape"
   ]
  },
  {
   "cell_type": "markdown",
   "metadata": {},
   "source": [
    "## Class Prediction\n",
    "\n",
    "Once you can get images in the correct format, it's time to write a function for making predictions with your model. A common practice is to predict the top 5 or so (usually called top-$K$) most probable classes. You'll want to calculate the class probabilities then find the $K$ largest values.\n",
    "\n",
    "To get the top $K$ largest values in a tensor use [`x.topk(k)`](http://pytorch.org/docs/master/torch.html#torch.topk). This method returns both the highest `k` probabilities and the indices of those probabilities corresponding to the classes. You need to convert from these indices to the actual class labels using `class_to_idx` which hopefully you added to the model or from an `ImageFolder` you used to load the data ([see here](#Save-the-checkpoint)). Make sure to invert the dictionary so you get a mapping from index to class as well.\n",
    "\n",
    "Again, this method should take a path to an image and a model checkpoint, then return the probabilities and classes.\n",
    "\n",
    "```python\n",
    "probs, classes = predict(image_path, model)\n",
    "print(probs)\n",
    "print(classes)\n",
    "> [ 0.01558163  0.01541934  0.01452626  0.01443549  0.01407339]\n",
    "> ['70', '3', '45', '62', '55']\n",
    "```"
   ]
  },
  {
   "cell_type": "code",
   "execution_count": null,
   "metadata": {
    "ExecuteTime": {
     "end_time": "2019-06-08T01:58:01.894993Z",
     "start_time": "2019-06-08T01:58:01.886428Z"
    }
   },
   "outputs": [],
   "source": [
    "def predict(image_path, model, topk=5, device='cpu'):\n",
    "    ''' \n",
    "    Predict the class (or classes) of an image using a trained deep learning model.\n",
    "    \n",
    "    Parameters\n",
    "    ----------\n",
    "    image_path: str. Filepath for image being classified\n",
    "    \n",
    "    model: PyTorch model\n",
    "    \n",
    "    topk: int. Indicates how many of the highest-probability classes you want predict()\n",
    "            to return\n",
    "            \n",
    "    device: str. Either 'cpu' or 'cuda:0'. Dictates if you'll be using the GPU to predict or the CPU\n",
    "            Note that prediction is pretty efficient, so no real need to use GPU.\n",
    "    \n",
    "    \n",
    "    Returns\n",
    "    --------\n",
    "    tuple of form (top_probabilities, top_class_labels)\n",
    "    '''\n",
    "    \n",
    "    device = torch.device(device)\n",
    "    model.to(torch.device(device))\n",
    "    \n",
    "    # Load the Image\n",
    "    image = Image.open(image_path)\n",
    "    \n",
    "    # Preprocess the image\n",
    "    np_data = process_image(image)\n",
    "    \n",
    "    \n",
    "    # PyTorch expects a 4D tensor for input into Conv2d layers, with a size-1\n",
    "    # first dimension. Not entirely sure what it is, but probably the batch ID.\n",
    "    # So let's just give it a new dimension with nothing in it and hope for the best!\n",
    "    dims = (1,) + np_data.shape\n",
    "    data = torch.Tensor(np_data).view(dims).to(device)\n",
    "    \n",
    "    # TODO: make it so moving of models and inputs to 'device' is done only here,\n",
    "        # not in earlier load_checkpoint() function\n",
    "    \n",
    "    #print(f\"Shape of input data is {data.shape}\")\n",
    "    \n",
    "    # Feedforward the image input to generate prediction probabilities\n",
    "    with torch.no_grad():\n",
    "\n",
    "        # set model to evaluation mode and remove un-needed things like Dropout layers\n",
    "        model.eval()\n",
    "        \n",
    "        outputs = model(data)\n",
    "        probs = torch.exp(outputs)\n",
    "\n",
    "    top_ps, top_idx = probs.topk(topk, dim = 1)\n",
    "    \n",
    "    # Convert to lists for iterating\n",
    "    top_ps = list(top_ps.numpy()[0])\n",
    "    top_idx = list(top_idx.numpy()[0])\n",
    "    \n",
    "    # Translate model label indices to image folder labels\n",
    "    top_classes = [model.idx_to_class[idx] for idx in top_idx]\n",
    "        \n",
    "    return top_ps, top_classes"
   ]
  },
  {
   "cell_type": "code",
   "execution_count": null,
   "metadata": {
    "ExecuteTime": {
     "end_time": "2019-06-08T01:58:35.892546Z",
     "start_time": "2019-06-08T01:58:35.588070Z"
    },
    "scrolled": true
   },
   "outputs": [],
   "source": [
    "probs, classes = predict('data/test/1/image_06743.jpg', model, device = 'cpu')\n",
    "print(probs)\n",
    "print(classes)\n",
    "print([cat_to_name[name] for name in classes])"
   ]
  },
  {
   "cell_type": "markdown",
   "metadata": {},
   "source": [
    "## Sanity Checking\n",
    "\n",
    "Now that you can use a trained model for predictions, check to make sure it makes sense. Even if the testing accuracy is high, it's always good to check that there aren't obvious bugs. Use `matplotlib` to plot the probabilities for the top 5 classes as a bar graph, along with the input image. It should look like this:\n",
    "\n",
    "<img src='assets/inference_example.png' width=300px>\n",
    "\n",
    "You can convert from the class integer encoding to actual flower names with the `cat_to_name.json` file (should have been loaded earlier in the notebook). To show a PyTorch tensor as an image, use the `imshow` function defined above."
   ]
  },
  {
   "cell_type": "code",
   "execution_count": null,
   "metadata": {
    "ExecuteTime": {
     "end_time": "2019-06-08T02:18:52.221055Z",
     "start_time": "2019-06-08T02:18:52.208627Z"
    }
   },
   "outputs": [],
   "source": [
    "# TODO: Display an image along with the top 5 classes\n",
    "import seaborn as sns\n",
    "\n",
    "def image_and_top5probs(img_path, model, class_names):\n",
    "    ''' \n",
    "    Function for viewing an image and its top 5 predicted classes.\n",
    "    \n",
    "    Parameters\n",
    "    ----------\n",
    "    img_path: str. Relative file path to an image\n",
    "    \n",
    "    model: trained PyTorch model to use for predictions\n",
    "    \n",
    "    class_names: dict. Keys and values are str. Maps folder names (keys) to flower names (values)\n",
    "    '''\n",
    "    # Open the virgin image\n",
    "    image = Image.open(img_path)\n",
    "    \n",
    "    # preprocess image for inference\n",
    "    processed_image = torch.Tensor(process_image(image))\n",
    "    \n",
    "    # NOTE: much of the plotting code is adapted from \n",
    "    # https://medium.com/@rayheberer/generating-matplotlib-subplots-programmatically-cc234629b648\n",
    "    \n",
    "    # Setup the multi-object Figure\n",
    "    fig, (ax1, ax2) = plt.subplots(figsize = (4,8), ncols=1, nrows=2)\n",
    "    fig.suptitle('What flower is that, anyways?')\n",
    "    \n",
    "    # Setup the processed flower image + label title\n",
    "    flower_name = class_names[img_path.split('/')[-2]]\n",
    "    ax1.set(title=flower_name)\n",
    "    imshow(processed_image, ax = ax1)\n",
    "    ax1.axis('off')\n",
    "    \n",
    "    # Predictions\n",
    "    probs, classes = predict(img_path, model, device = 'cpu')\n",
    "    predicted_names = [cat_to_name[name] for name in classes]\n",
    "    \n",
    "    # Setup the probability bar chart\n",
    "    sns.barplot(x = probs, y = predicted_names, orient = 'h', ax = ax2, color = 'limegreen')\n",
    "    ax2.set(title='Educated Guesses', xlabel='Probability')"
   ]
  },
  {
   "cell_type": "code",
   "execution_count": null,
   "metadata": {
    "ExecuteTime": {
     "end_time": "2019-06-08T02:18:53.092396Z",
     "start_time": "2019-06-08T02:18:52.392935Z"
    },
    "scrolled": false
   },
   "outputs": [],
   "source": [
    "image_and_top5probs('data/test/28/image_05270.jpg', model, cat_to_name)"
   ]
  }
 ],
 "metadata": {
  "kernelspec": {
   "display_name": "Python [conda env:imageClassifier]",
   "language": "python",
   "name": "conda-env-imageClassifier-py"
  },
  "language_info": {
   "codemirror_mode": {
    "name": "ipython",
    "version": 3
   },
   "file_extension": ".py",
   "mimetype": "text/x-python",
   "name": "python",
   "nbconvert_exporter": "python",
   "pygments_lexer": "ipython3",
   "version": "3.6.8"
  },
  "toc": {
   "base_numbering": 1,
   "nav_menu": {},
   "number_sections": true,
   "sideBar": true,
   "skip_h1_title": false,
   "title_cell": "Table of Contents",
   "title_sidebar": "Contents",
   "toc_cell": false,
   "toc_position": {
    "height": "calc(100% - 180px)",
    "left": "10px",
    "top": "150px",
    "width": "256px"
   },
   "toc_section_display": true,
   "toc_window_display": true
  },
  "varInspector": {
   "cols": {
    "lenName": 16,
    "lenType": 16,
    "lenVar": 40
   },
   "kernels_config": {
    "python": {
     "delete_cmd_postfix": "",
     "delete_cmd_prefix": "del ",
     "library": "var_list.py",
     "varRefreshCmd": "print(var_dic_list())"
    },
    "r": {
     "delete_cmd_postfix": ") ",
     "delete_cmd_prefix": "rm(",
     "library": "var_list.r",
     "varRefreshCmd": "cat(var_dic_list()) "
    }
   },
   "position": {
    "height": "144px",
    "left": "910px",
    "right": "20px",
    "top": "119px",
    "width": "350px"
   },
   "types_to_exclude": [
    "module",
    "function",
    "builtin_function_or_method",
    "instance",
    "_Feature"
   ],
   "window_display": false
  }
 },
 "nbformat": 4,
 "nbformat_minor": 2
}
